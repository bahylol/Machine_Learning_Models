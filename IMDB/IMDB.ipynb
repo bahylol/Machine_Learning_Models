{
  "nbformat": 4,
  "nbformat_minor": 0,
  "metadata": {
    "colab": {
      "provenance": []
    },
    "kernelspec": {
      "name": "python3",
      "display_name": "Python 3"
    },
    "language_info": {
      "name": "python"
    }
  },
  "cells": [
    {
      "cell_type": "code",
      "execution_count": null,
      "metadata": {
        "id": "0U2zFmOZKkAr",
        "colab": {
          "base_uri": "https://localhost:8080/",
          "height": 397
        },
        "outputId": "dadeb631-f70a-4596-d94f-b030e4b61fc7"
      },
      "outputs": [
        {
          "output_type": "error",
          "ename": "FileNotFoundError",
          "evalue": "ignored",
          "traceback": [
            "\u001b[0;31m---------------------------------------------------------------------------\u001b[0m",
            "\u001b[0;31mFileNotFoundError\u001b[0m                         Traceback (most recent call last)",
            "\u001b[0;32m<ipython-input-1-8491475e4bf8>\u001b[0m in \u001b[0;36m<cell line: 12>\u001b[0;34m()\u001b[0m\n\u001b[1;32m     10\u001b[0m \u001b[0;34m\u001b[0m\u001b[0m\n\u001b[1;32m     11\u001b[0m \u001b[0;31m#Read Data\u001b[0m\u001b[0;34m\u001b[0m\u001b[0;34m\u001b[0m\u001b[0m\n\u001b[0;32m---> 12\u001b[0;31m \u001b[0mdata\u001b[0m \u001b[0;34m=\u001b[0m \u001b[0mpd\u001b[0m\u001b[0;34m.\u001b[0m\u001b[0mread_csv\u001b[0m\u001b[0;34m(\u001b[0m\u001b[0;34m\"imdb_top_1000.csv\"\u001b[0m\u001b[0;34m)\u001b[0m\u001b[0;34m\u001b[0m\u001b[0;34m\u001b[0m\u001b[0m\n\u001b[0m\u001b[1;32m     13\u001b[0m \u001b[0;31m#fixed dataTypes\u001b[0m\u001b[0;34m\u001b[0m\u001b[0;34m\u001b[0m\u001b[0m\n\u001b[1;32m     14\u001b[0m \u001b[0mdata\u001b[0m\u001b[0;34m.\u001b[0m\u001b[0mReleased_Year\u001b[0m\u001b[0;34m=\u001b[0m\u001b[0mdata\u001b[0m\u001b[0;34m.\u001b[0m\u001b[0mReleased_Year\u001b[0m\u001b[0;34m.\u001b[0m\u001b[0mreplace\u001b[0m\u001b[0;34m(\u001b[0m\u001b[0;34m[\u001b[0m\u001b[0;34m\"PG\"\u001b[0m\u001b[0;34m]\u001b[0m\u001b[0;34m,\u001b[0m\u001b[0;34m[\u001b[0m\u001b[0;36m1990\u001b[0m\u001b[0;34m]\u001b[0m\u001b[0;34m)\u001b[0m\u001b[0;34m\u001b[0m\u001b[0;34m\u001b[0m\u001b[0m\n",
            "\u001b[0;32m/usr/local/lib/python3.10/dist-packages/pandas/util/_decorators.py\u001b[0m in \u001b[0;36mwrapper\u001b[0;34m(*args, **kwargs)\u001b[0m\n\u001b[1;32m    209\u001b[0m                 \u001b[0;32melse\u001b[0m\u001b[0;34m:\u001b[0m\u001b[0;34m\u001b[0m\u001b[0;34m\u001b[0m\u001b[0m\n\u001b[1;32m    210\u001b[0m                     \u001b[0mkwargs\u001b[0m\u001b[0;34m[\u001b[0m\u001b[0mnew_arg_name\u001b[0m\u001b[0;34m]\u001b[0m \u001b[0;34m=\u001b[0m \u001b[0mnew_arg_value\u001b[0m\u001b[0;34m\u001b[0m\u001b[0;34m\u001b[0m\u001b[0m\n\u001b[0;32m--> 211\u001b[0;31m             \u001b[0;32mreturn\u001b[0m \u001b[0mfunc\u001b[0m\u001b[0;34m(\u001b[0m\u001b[0;34m*\u001b[0m\u001b[0margs\u001b[0m\u001b[0;34m,\u001b[0m \u001b[0;34m**\u001b[0m\u001b[0mkwargs\u001b[0m\u001b[0;34m)\u001b[0m\u001b[0;34m\u001b[0m\u001b[0;34m\u001b[0m\u001b[0m\n\u001b[0m\u001b[1;32m    212\u001b[0m \u001b[0;34m\u001b[0m\u001b[0m\n\u001b[1;32m    213\u001b[0m         \u001b[0;32mreturn\u001b[0m \u001b[0mcast\u001b[0m\u001b[0;34m(\u001b[0m\u001b[0mF\u001b[0m\u001b[0;34m,\u001b[0m \u001b[0mwrapper\u001b[0m\u001b[0;34m)\u001b[0m\u001b[0;34m\u001b[0m\u001b[0;34m\u001b[0m\u001b[0m\n",
            "\u001b[0;32m/usr/local/lib/python3.10/dist-packages/pandas/util/_decorators.py\u001b[0m in \u001b[0;36mwrapper\u001b[0;34m(*args, **kwargs)\u001b[0m\n\u001b[1;32m    329\u001b[0m                     \u001b[0mstacklevel\u001b[0m\u001b[0;34m=\u001b[0m\u001b[0mfind_stack_level\u001b[0m\u001b[0;34m(\u001b[0m\u001b[0;34m)\u001b[0m\u001b[0;34m,\u001b[0m\u001b[0;34m\u001b[0m\u001b[0;34m\u001b[0m\u001b[0m\n\u001b[1;32m    330\u001b[0m                 )\n\u001b[0;32m--> 331\u001b[0;31m             \u001b[0;32mreturn\u001b[0m \u001b[0mfunc\u001b[0m\u001b[0;34m(\u001b[0m\u001b[0;34m*\u001b[0m\u001b[0margs\u001b[0m\u001b[0;34m,\u001b[0m \u001b[0;34m**\u001b[0m\u001b[0mkwargs\u001b[0m\u001b[0;34m)\u001b[0m\u001b[0;34m\u001b[0m\u001b[0;34m\u001b[0m\u001b[0m\n\u001b[0m\u001b[1;32m    332\u001b[0m \u001b[0;34m\u001b[0m\u001b[0m\n\u001b[1;32m    333\u001b[0m         \u001b[0;31m# error: \"Callable[[VarArg(Any), KwArg(Any)], Any]\" has no\u001b[0m\u001b[0;34m\u001b[0m\u001b[0;34m\u001b[0m\u001b[0m\n",
            "\u001b[0;32m/usr/local/lib/python3.10/dist-packages/pandas/io/parsers/readers.py\u001b[0m in \u001b[0;36mread_csv\u001b[0;34m(filepath_or_buffer, sep, delimiter, header, names, index_col, usecols, squeeze, prefix, mangle_dupe_cols, dtype, engine, converters, true_values, false_values, skipinitialspace, skiprows, skipfooter, nrows, na_values, keep_default_na, na_filter, verbose, skip_blank_lines, parse_dates, infer_datetime_format, keep_date_col, date_parser, dayfirst, cache_dates, iterator, chunksize, compression, thousands, decimal, lineterminator, quotechar, quoting, doublequote, escapechar, comment, encoding, encoding_errors, dialect, error_bad_lines, warn_bad_lines, on_bad_lines, delim_whitespace, low_memory, memory_map, float_precision, storage_options)\u001b[0m\n\u001b[1;32m    948\u001b[0m     \u001b[0mkwds\u001b[0m\u001b[0;34m.\u001b[0m\u001b[0mupdate\u001b[0m\u001b[0;34m(\u001b[0m\u001b[0mkwds_defaults\u001b[0m\u001b[0;34m)\u001b[0m\u001b[0;34m\u001b[0m\u001b[0;34m\u001b[0m\u001b[0m\n\u001b[1;32m    949\u001b[0m \u001b[0;34m\u001b[0m\u001b[0m\n\u001b[0;32m--> 950\u001b[0;31m     \u001b[0;32mreturn\u001b[0m \u001b[0m_read\u001b[0m\u001b[0;34m(\u001b[0m\u001b[0mfilepath_or_buffer\u001b[0m\u001b[0;34m,\u001b[0m \u001b[0mkwds\u001b[0m\u001b[0;34m)\u001b[0m\u001b[0;34m\u001b[0m\u001b[0;34m\u001b[0m\u001b[0m\n\u001b[0m\u001b[1;32m    951\u001b[0m \u001b[0;34m\u001b[0m\u001b[0m\n\u001b[1;32m    952\u001b[0m \u001b[0;34m\u001b[0m\u001b[0m\n",
            "\u001b[0;32m/usr/local/lib/python3.10/dist-packages/pandas/io/parsers/readers.py\u001b[0m in \u001b[0;36m_read\u001b[0;34m(filepath_or_buffer, kwds)\u001b[0m\n\u001b[1;32m    603\u001b[0m \u001b[0;34m\u001b[0m\u001b[0m\n\u001b[1;32m    604\u001b[0m     \u001b[0;31m# Create the parser.\u001b[0m\u001b[0;34m\u001b[0m\u001b[0;34m\u001b[0m\u001b[0m\n\u001b[0;32m--> 605\u001b[0;31m     \u001b[0mparser\u001b[0m \u001b[0;34m=\u001b[0m \u001b[0mTextFileReader\u001b[0m\u001b[0;34m(\u001b[0m\u001b[0mfilepath_or_buffer\u001b[0m\u001b[0;34m,\u001b[0m \u001b[0;34m**\u001b[0m\u001b[0mkwds\u001b[0m\u001b[0;34m)\u001b[0m\u001b[0;34m\u001b[0m\u001b[0;34m\u001b[0m\u001b[0m\n\u001b[0m\u001b[1;32m    606\u001b[0m \u001b[0;34m\u001b[0m\u001b[0m\n\u001b[1;32m    607\u001b[0m     \u001b[0;32mif\u001b[0m \u001b[0mchunksize\u001b[0m \u001b[0;32mor\u001b[0m \u001b[0miterator\u001b[0m\u001b[0;34m:\u001b[0m\u001b[0;34m\u001b[0m\u001b[0;34m\u001b[0m\u001b[0m\n",
            "\u001b[0;32m/usr/local/lib/python3.10/dist-packages/pandas/io/parsers/readers.py\u001b[0m in \u001b[0;36m__init__\u001b[0;34m(self, f, engine, **kwds)\u001b[0m\n\u001b[1;32m   1440\u001b[0m \u001b[0;34m\u001b[0m\u001b[0m\n\u001b[1;32m   1441\u001b[0m         \u001b[0mself\u001b[0m\u001b[0;34m.\u001b[0m\u001b[0mhandles\u001b[0m\u001b[0;34m:\u001b[0m \u001b[0mIOHandles\u001b[0m \u001b[0;34m|\u001b[0m \u001b[0;32mNone\u001b[0m \u001b[0;34m=\u001b[0m \u001b[0;32mNone\u001b[0m\u001b[0;34m\u001b[0m\u001b[0;34m\u001b[0m\u001b[0m\n\u001b[0;32m-> 1442\u001b[0;31m         \u001b[0mself\u001b[0m\u001b[0;34m.\u001b[0m\u001b[0m_engine\u001b[0m \u001b[0;34m=\u001b[0m \u001b[0mself\u001b[0m\u001b[0;34m.\u001b[0m\u001b[0m_make_engine\u001b[0m\u001b[0;34m(\u001b[0m\u001b[0mf\u001b[0m\u001b[0;34m,\u001b[0m \u001b[0mself\u001b[0m\u001b[0;34m.\u001b[0m\u001b[0mengine\u001b[0m\u001b[0;34m)\u001b[0m\u001b[0;34m\u001b[0m\u001b[0;34m\u001b[0m\u001b[0m\n\u001b[0m\u001b[1;32m   1443\u001b[0m \u001b[0;34m\u001b[0m\u001b[0m\n\u001b[1;32m   1444\u001b[0m     \u001b[0;32mdef\u001b[0m \u001b[0mclose\u001b[0m\u001b[0;34m(\u001b[0m\u001b[0mself\u001b[0m\u001b[0;34m)\u001b[0m \u001b[0;34m->\u001b[0m \u001b[0;32mNone\u001b[0m\u001b[0;34m:\u001b[0m\u001b[0;34m\u001b[0m\u001b[0;34m\u001b[0m\u001b[0m\n",
            "\u001b[0;32m/usr/local/lib/python3.10/dist-packages/pandas/io/parsers/readers.py\u001b[0m in \u001b[0;36m_make_engine\u001b[0;34m(self, f, engine)\u001b[0m\n\u001b[1;32m   1733\u001b[0m                 \u001b[0;32mif\u001b[0m \u001b[0;34m\"b\"\u001b[0m \u001b[0;32mnot\u001b[0m \u001b[0;32min\u001b[0m \u001b[0mmode\u001b[0m\u001b[0;34m:\u001b[0m\u001b[0;34m\u001b[0m\u001b[0;34m\u001b[0m\u001b[0m\n\u001b[1;32m   1734\u001b[0m                     \u001b[0mmode\u001b[0m \u001b[0;34m+=\u001b[0m \u001b[0;34m\"b\"\u001b[0m\u001b[0;34m\u001b[0m\u001b[0;34m\u001b[0m\u001b[0m\n\u001b[0;32m-> 1735\u001b[0;31m             self.handles = get_handle(\n\u001b[0m\u001b[1;32m   1736\u001b[0m                 \u001b[0mf\u001b[0m\u001b[0;34m,\u001b[0m\u001b[0;34m\u001b[0m\u001b[0;34m\u001b[0m\u001b[0m\n\u001b[1;32m   1737\u001b[0m                 \u001b[0mmode\u001b[0m\u001b[0;34m,\u001b[0m\u001b[0;34m\u001b[0m\u001b[0;34m\u001b[0m\u001b[0m\n",
            "\u001b[0;32m/usr/local/lib/python3.10/dist-packages/pandas/io/common.py\u001b[0m in \u001b[0;36mget_handle\u001b[0;34m(path_or_buf, mode, encoding, compression, memory_map, is_text, errors, storage_options)\u001b[0m\n\u001b[1;32m    854\u001b[0m         \u001b[0;32mif\u001b[0m \u001b[0mioargs\u001b[0m\u001b[0;34m.\u001b[0m\u001b[0mencoding\u001b[0m \u001b[0;32mand\u001b[0m \u001b[0;34m\"b\"\u001b[0m \u001b[0;32mnot\u001b[0m \u001b[0;32min\u001b[0m \u001b[0mioargs\u001b[0m\u001b[0;34m.\u001b[0m\u001b[0mmode\u001b[0m\u001b[0;34m:\u001b[0m\u001b[0;34m\u001b[0m\u001b[0;34m\u001b[0m\u001b[0m\n\u001b[1;32m    855\u001b[0m             \u001b[0;31m# Encoding\u001b[0m\u001b[0;34m\u001b[0m\u001b[0;34m\u001b[0m\u001b[0m\n\u001b[0;32m--> 856\u001b[0;31m             handle = open(\n\u001b[0m\u001b[1;32m    857\u001b[0m                 \u001b[0mhandle\u001b[0m\u001b[0;34m,\u001b[0m\u001b[0;34m\u001b[0m\u001b[0;34m\u001b[0m\u001b[0m\n\u001b[1;32m    858\u001b[0m                 \u001b[0mioargs\u001b[0m\u001b[0;34m.\u001b[0m\u001b[0mmode\u001b[0m\u001b[0;34m,\u001b[0m\u001b[0;34m\u001b[0m\u001b[0;34m\u001b[0m\u001b[0m\n",
            "\u001b[0;31mFileNotFoundError\u001b[0m: [Errno 2] No such file or directory: 'imdb_top_1000.csv'"
          ]
        }
      ],
      "source": [
        "import pandas as pd\n",
        "import matplotlib.pyplot as plt\n",
        "from sklearn.model_selection import train_test_split\n",
        "from sklearn.neighbors import KNeighborsClassifier\n",
        "from sklearn.naive_bayes import GaussianNB\n",
        "from sklearn.tree import DecisionTreeClassifier\n",
        "import sklearn.metrics as skMetrics\n",
        "from sklearn.metrics import confusion_matrix\n",
        "\n",
        "\n",
        "#Read Data\n",
        "data = pd.read_csv(\"imdb_top_1000.csv\")\n",
        "#fixed dataTypes\n",
        "data.Released_Year=data.Released_Year.replace([\"PG\"],[1990])\n",
        "data.Released_Year=data.Released_Year.astype(int)\n",
        "data.Runtime=data.Runtime.str.strip(\" min\")\n",
        "data.Runtime=data.Runtime.astype(int)\n",
        "data.Gross=data.Gross.str.replace(\",\",\"\")\n",
        "data.Gross=data.Gross.astype(float)\n",
        "data.dtypes"
      ]
    },
    {
      "cell_type": "code",
      "source": [
        "#Show All data\n",
        "data"
      ],
      "metadata": {
        "id": "mAQwhf0NvNLh"
      },
      "execution_count": null,
      "outputs": []
    },
    {
      "cell_type": "code",
      "source": [
        "#Show the first 10 rows.\n",
        "data[0:10]\n"
      ],
      "metadata": {
        "id": "BKgvbTV4LP6p"
      },
      "execution_count": null,
      "outputs": []
    },
    {
      "cell_type": "code",
      "source": [
        "#Show the last 10 rows.\n",
        "data[-10:]"
      ],
      "metadata": {
        "id": "8cZYvH0gLcvH"
      },
      "execution_count": null,
      "outputs": []
    },
    {
      "cell_type": "code",
      "source": [
        "#Print the name of all the columns.\n",
        "print(\"Rows : \"+str(data.shape[0])+\" Columns : \"+str(data.shape[1]))"
      ],
      "metadata": {
        "id": "XPk_KpbGLkiy"
      },
      "execution_count": null,
      "outputs": []
    },
    {
      "cell_type": "code",
      "source": [
        "#Print the name of all the columns.\n",
        "columns =['']*16\n",
        "for i in range(16) :\n",
        "    columns[i]=data.columns[i]\n",
        "print(columns)"
      ],
      "metadata": {
        "id": "FCFUSiYxLwPq"
      },
      "execution_count": null,
      "outputs": []
    },
    {
      "cell_type": "code",
      "source": [
        "#Print the name of the last column.\n",
        "print(\"Last Column name : \"+columns[-1])"
      ],
      "metadata": {
        "id": "iQv6WBsxTZ7O"
      },
      "execution_count": null,
      "outputs": []
    },
    {
      "cell_type": "code",
      "source": [
        "#What is the type of 4th column?\n",
        "print(\"4th coloumn type:\"+str(data.dtypes[3]))"
      ],
      "metadata": {
        "id": "SUq79iC9TdBV"
      },
      "execution_count": null,
      "outputs": []
    },
    {
      "cell_type": "code",
      "source": [
        "#Choose a categorical column and find how many different types in this column?\n",
        "print(\"Number of different types in column 'Certificate' :\"+str(len(data[\"Certificate\"].unique())))"
      ],
      "metadata": {
        "id": "bJwXgpa2TgLw"
      },
      "execution_count": null,
      "outputs": []
    },
    {
      "cell_type": "code",
      "source": [
        "#What is the most frequent or most one occurred in the column chosen in part g?\n",
        "print(\"Most frequent type in column 'Certificate': \"+data[\"Certificate\"].value_counts().idxmax())"
      ],
      "metadata": {
        "id": "CDLhBCYkTkMN"
      },
      "execution_count": null,
      "outputs": []
    },
    {
      "cell_type": "code",
      "source": [
        "#Find all mean, standard deviation and percentile (25%, 50% and 75% ) for all numerical values.\n",
        "print(data.describe())"
      ],
      "metadata": {
        "id": "pdUk8_iWTsUb"
      },
      "execution_count": null,
      "outputs": []
    },
    {
      "cell_type": "code",
      "source": [
        "#Data Preparation\n",
        "\n",
        "#Filter out rows with any specific condition you prefer (for example select students with grades\n",
        "#higher than 60 out 100).\n",
        "data.loc[(data[\"IMDB_Rating\"]>=8.5) &(data[\"No_of_Votes\"]>=1000000)]"
      ],
      "metadata": {
        "id": "UWJqwqqUTxL3"
      },
      "execution_count": null,
      "outputs": []
    },
    {
      "cell_type": "code",
      "source": [
        "#Select the names that start with Y and count them.\n",
        "print(\"Count : \"+str(data[data.Series_Title.str.startswith('Y')].shape[0]))\n",
        "data[data.Series_Title.str.startswith('Y')]"
      ],
      "metadata": {
        "id": "QJWGpZv_Ua-N"
      },
      "execution_count": null,
      "outputs": []
    },
    {
      "cell_type": "code",
      "source": [
        "#Show general statistics (mean, median, max, min, percentile,....) in any categorical attribute.\n",
        "print(data.Certificate.describe())"
      ],
      "metadata": {
        "id": "j7G0iiU1UcHg"
      },
      "execution_count": null,
      "outputs": []
    },
    {
      "cell_type": "code",
      "source": [
        "#Change type of numerical column from int to object.\n",
        "print(\"Meta_score old type:\"+str(data.dtypes[8]))\n",
        "data['Meta_score']=data['Meta_score'].astype('object')\n",
        "print(\"Meta_score new type:\"+str(data.dtypes[8]))\n",
        "data['Meta_score']=data['Meta_score'].astype(float)"
      ],
      "metadata": {
        "id": "_6pCxi2aUzIM"
      },
      "execution_count": null,
      "outputs": []
    },
    {
      "cell_type": "code",
      "source": [
        "#Group the entire data set by any two categorical attribute.\n",
        "goruped_data=data.groupby(['Certificate','Director'])\n",
        "goruped_data.first()"
      ],
      "metadata": {
        "id": "KSk0P7BbzH9J"
      },
      "execution_count": null,
      "outputs": []
    },
    {
      "cell_type": "code",
      "source": [
        "#Are there any missing values in the data set?\n",
        "print(data.isna().sum())"
      ],
      "metadata": {
        "id": "2XBQro12U1XK"
      },
      "execution_count": null,
      "outputs": []
    },
    {
      "cell_type": "code",
      "source": [
        "#Find the index of rows with any row with 2 missing values\n",
        "arr=data.isnull().sum(axis=1)\n",
        "i=0;\n",
        "for element in arr :\n",
        "  if(element==2) :\n",
        "    print(i)\n",
        "  i+=1"
      ],
      "metadata": {
        "id": "T9vt8gQ2zqrj"
      },
      "execution_count": null,
      "outputs": []
    },
    {
      "cell_type": "code",
      "source": [
        "#If there are any NaN values in any column, substitute these missing values with the mean/mode of\n",
        "#this column\n",
        "data.Certificate.fillna(data.Certificate.mode()[0], inplace=True)\n",
        "data.Meta_score.fillna(value=data.Meta_score.mean(), inplace=True)\n",
        "data.Gross.fillna(value=data.Gross.mean(), inplace=True)\n",
        "print(data.isna().sum())"
      ],
      "metadata": {
        "id": "CNji768uzaNU"
      },
      "execution_count": null,
      "outputs": []
    },
    {
      "cell_type": "code",
      "source": [
        "# Find the total number of duplicated rows and drop them if there are any.\n",
        "print(\"Sum of Duplicates : \"+str(data.duplicated().sum()))"
      ],
      "metadata": {
        "id": "fVT8WVypV9hm"
      },
      "execution_count": null,
      "outputs": []
    },
    {
      "cell_type": "code",
      "source": [
        "# Discretize any numerical column into 6 groups using equal interval method and count the values in\n",
        "#each bin/Group. Make sure intervals are sorted when counting them).\n",
        "pd.cut(data.IMDB_Rating, 6,precision=0,labels=[\"Very Low Score\",\"Low Score\",\"Average Score\",\"High Score\",\"Very High Score\",\"Extremly High Score\"])\n"
      ],
      "metadata": {
        "id": "L11IsusDrgHC"
      },
      "execution_count": null,
      "outputs": []
    },
    {
      "cell_type": "code",
      "source": [
        "#Select row with maximum value of a chosen numerical variable.\n",
        "data[data.No_of_Votes == data.No_of_Votes.max()]"
      ],
      "metadata": {
        "id": "QJfgQYmGnI8f"
      },
      "execution_count": null,
      "outputs": []
    },
    {
      "cell_type": "code",
      "source": [
        "#Make a suitable boxplot with any chosen attribute from the data set (Think about why chosing\n",
        "#this attribute before plotting).\n",
        "plt.boxplot(data.Released_Year)"
      ],
      "metadata": {
        "id": "w2Pjbc4k4eqn"
      },
      "execution_count": null,
      "outputs": []
    },
    {
      "cell_type": "code",
      "source": [
        "#Make a suitable histogram with any chosen attribute from the data set (Think about why chosing\n",
        "#this attribute before plotting).\n",
        "plt.hist(data.Runtime)"
      ],
      "metadata": {
        "id": "stxu6wnSmB6_"
      },
      "execution_count": null,
      "outputs": []
    },
    {
      "cell_type": "code",
      "source": [
        "#Make a suitable scatterplot with any chosen attributes from the data set (Think about why chosing\n",
        "#this attribute before plotting).\n",
        "plt.scatter(data.Released_Year, data.No_of_Votes)"
      ],
      "metadata": {
        "id": "MdoYdDuhlsSp"
      },
      "execution_count": null,
      "outputs": []
    },
    {
      "cell_type": "code",
      "source": [
        "#Testing and Training\n",
        "\n",
        "#discretizing gross coloumn into 3 values\n",
        "data.Gross=pd.cut(data.Gross, 3,precision=0,labels=['Low','Mid','High'])\n",
        "\n",
        "#Spliting data into labels and features\n",
        "X = data[['IMDB_Rating', 'Released_Year', 'Runtime', 'Meta_score']]\n",
        "y = data['Gross']\n",
        "\n",
        "#splitting data into train and test data\n",
        "X_train, X_test, y_train, y_test = train_test_split(X, y, random_state=104, test_size=0.20, shuffle=True)"
      ],
      "metadata": {
        "id": "5hKtc1jZdz92"
      },
      "execution_count": null,
      "outputs": []
    },
    {
      "cell_type": "code",
      "source": [
        "#K nearest neighbor Model\n",
        "\n",
        "# Initialize the model\n",
        "knn_model = KNeighborsClassifier(n_neighbors=3)\n",
        "\n",
        "# Fit the model to the training data\n",
        "knn_model.fit(X_train, y_train)\n",
        "\n",
        "# Predict on the test data\n",
        "Ky_pred = knn_model.predict(X_test)"
      ],
      "metadata": {
        "id": "J1MbJWNTx7UK"
      },
      "execution_count": null,
      "outputs": []
    },
    {
      "cell_type": "code",
      "source": [
        "#K nearest neighbor Model Performance metrics\n",
        "Kaccuracy = knn_model.score(X_test, y_test)*100\n",
        "print(\"Accuracy = \", Kaccuracy)\n",
        "Kprecision = skMetrics.precision_score(y_test, Ky_pred,zero_division=1, average='macro')*100\n",
        "print(\"Precision = \",Kprecision)\n",
        "Krecall = skMetrics.recall_score(y_test, Ky_pred, average='macro')*100\n",
        "print(\"Recall = \",Kprecision)\n",
        "Kf_score = skMetrics.f1_score(y_test, Ky_pred, average='macro')*100\n",
        "print(\"f_score = \",Kf_score)\n",
        "KcMatrix = confusion_matrix(y_test, Ky_pred)\n",
        "print(\"Confusion Matrix : \")\n",
        "print(KcMatrix)\n"
      ],
      "metadata": {
        "id": "9H54a0LPyeg5"
      },
      "execution_count": null,
      "outputs": []
    },
    {
      "cell_type": "code",
      "source": [
        "#Naive Bayes Model\n",
        "\n",
        "# Initialize the model\n",
        "naiveBayes_model = GaussianNB()\n",
        "\n",
        "# Fit the model to the training data\n",
        "naiveBayes_model.fit(X_train, y_train)\n",
        "\n",
        "# Predict on the test data\n",
        "Ny_pred = naiveBayes_model.predict(X_test)"
      ],
      "metadata": {
        "id": "EPUXNbTDyhNP"
      },
      "execution_count": null,
      "outputs": []
    },
    {
      "cell_type": "code",
      "source": [
        "#Naive Bayes Performance metrics\n",
        "Naccuracy = naiveBayes_model.score(X_test, y_test)*100\n",
        "print(\"Accuracy = \", Naccuracy)\n",
        "Nprecision = skMetrics.precision_score(y_test, Ny_pred,zero_division=1, average='macro')*100\n",
        "print(\"Precision = \",Nprecision)\n",
        "Nrecall = skMetrics.recall_score(y_test, Ny_pred, average='macro')*100\n",
        "print(\"Recall = \",Nprecision)\n",
        "Nf_score = skMetrics.f1_score(y_test, Ny_pred, average='macro')*100\n",
        "print(\"f_score = \",Nf_score)\n",
        "NcMatrix = confusion_matrix(y_test, Ny_pred)\n",
        "print(\"Confusion Matrix : \")\n",
        "print(NcMatrix)\n"
      ],
      "metadata": {
        "id": "vk1Ca6wByp8C"
      },
      "execution_count": null,
      "outputs": []
    },
    {
      "cell_type": "code",
      "source": [
        "#Decision Tree Model\n",
        "# Initialize the model\n",
        "decisionTree_model = DecisionTreeClassifier()\n",
        "\n",
        "# Fit the model to the training data\n",
        "decisionTree_model.fit(X_train, y_train)\n",
        "\n",
        "# Predict on the test data\n",
        "Dy_pred = decisionTree_model.predict(X_test)"
      ],
      "metadata": {
        "id": "zTkyQ11lyty7"
      },
      "execution_count": null,
      "outputs": []
    },
    {
      "cell_type": "code",
      "source": [
        "#Decision Tree Performance metrics\n",
        "Daccuracy = decisionTree_model.score(X_test, y_test)*100\n",
        "print(\"Accuracy = \", Daccuracy)\n",
        "Dprecision = skMetrics.precision_score(y_test, Dy_pred,zero_division=1, average='macro')*100\n",
        "print(\"Precision = \",Dprecision)\n",
        "Drecall = skMetrics.recall_score(y_test, Dy_pred, average='macro')*100\n",
        "print(\"Recall = \",Dprecision)\n",
        "Df_score = skMetrics.f1_score(y_test, Dy_pred, average='macro')*100\n",
        "print(\"f_score = \",Df_score)\n",
        "DcMatrix = confusion_matrix(y_test, Dy_pred)\n",
        "print(\"Confusion Matrix : \")\n",
        "print(DcMatrix)\n"
      ],
      "metadata": {
        "id": "Rbxc07UKy2lY"
      },
      "execution_count": null,
      "outputs": []
    },
    {
      "cell_type": "code",
      "source": [
        "#Comparison\n",
        "def largest(num1, num2, num3):\n",
        "    if (num1 >= num2) and (num1 >= num3):\n",
        "        return (str(num1),\" From KNN algorithm\")\n",
        "    elif (num2 >= num1) and (num2 >= num3):\n",
        "        return (str(num2),\" From Naive Bayes algorithm\")\n",
        "    else:\n",
        "        return (str(num3),\" From Decision Tree algorithm\")\n",
        "print(\"Best Accuracy is : \",largest(Kaccuracy,Naccuracy,Daccuracy))\n",
        "print(\"Best Precision is : \",largest(Kprecision,Nprecision,Dprecision))\n",
        "print(\"Best Recall is : \",largest(Krecall,Nrecall,Drecall))\n",
        "print(\"Best f_score is : \",largest(Kf_score,Nf_score,Df_score))\n",
        "print()\n",
        "\n",
        "def middle(num1, num2, num3):\n",
        "    if num2 <= num1 <= num3 or num3 <= num1 <= num2:\n",
        "        return (str(num1),\" From KNN algorithm\")\n",
        "    elif num1 <= num2 <= num3 or num3 <= num2 <= num1:\n",
        "        return (str(num2),\" From Naive Bayes algorithm\")\n",
        "    else:\n",
        "        return (str(num3),\" From Decision Tree algorithm\")\n",
        "\n",
        "print(\"Middle Accuracy is : \",middle(Kaccuracy,Naccuracy,Daccuracy))\n",
        "print(\"Middle Precision is : \",middle(Kprecision,Nprecision,Dprecision))\n",
        "print(\"Middle Recall is : \",middle(Krecall,Nrecall,Drecall))\n",
        "print(\"Middle f_score is : \",middle(Kf_score,Nf_score,Df_score))\n",
        "print()\n",
        "\n",
        "def smallest(num1, num2, num3):\n",
        "    if num1 < num2 and num1 < num3:\n",
        "        return (str(num1),\" From KNN algorithm\")\n",
        "    elif num2 < num1 and num2 < num3:\n",
        "        return (str(num2),\" From Naive Bayes algorithm\")\n",
        "    else:\n",
        "        return (str(num3),\" From Decision Tree algorithm\")\n",
        "print(\"Worst Accuracy is : \",smallest(Kaccuracy,Naccuracy,Daccuracy))\n",
        "print(\"Worst Precision is : \",smallest(Kprecision,Nprecision,Dprecision))\n",
        "print(\"Worst Recall is : \",smallest(Krecall,Nrecall,Drecall))\n",
        "print(\"Worst f_score is : \",smallest(Kf_score,Nf_score,Df_score))\n",
        "\n"
      ],
      "metadata": {
        "id": "E1kMcCDvOKqH"
      },
      "execution_count": null,
      "outputs": []
    }
  ]
}